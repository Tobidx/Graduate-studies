{
 "cells": [
  {
   "cell_type": "code",
   "execution_count": 1,
   "id": "a6b5bf6c-99a8-4b85-b35b-f2ee16635476",
   "metadata": {},
   "outputs": [
    {
     "name": "stdout",
     "output_type": "stream",
     "text": [
      "Accuracy: 0.7485\n"
     ]
    }
   ],
   "source": [
    "import pandas as pd\n",
    "import numpy as np\n",
    "data=pd.read_csv('/Users/ajibolaoluwatobiloba/Desktop/AMOD5410- Big Data/Assignments/Assignment 3 --- ML & Spark/sleep.tsv',delimiter='\\t')\n",
    "trimmed_data=data.head(10000)\n",
    "\n",
    "\n",
    "\n",
    "X = trimmed_data.drop('target', axis=1)\n",
    "y = trimmed_data['target']\n",
    "\n",
    "\n",
    "from sklearn.svm import SVC\n",
    "from sklearn.metrics import accuracy_score\n",
    "from sklearn.model_selection import train_test_split\n",
    "X_train, X_test, y_train, y_test = train_test_split(X, y, test_size=0.2, random_state=42)\n",
    "\n",
    "\n",
    "svm = SVC()\n",
    "svm.fit(X_train, y_train)\n",
    "\n",
    "y_pred = svm.predict(X_test)\n",
    "accuracy = accuracy_score(y_test, y_pred)\n",
    "print(\"Accuracy:\", accuracy)"
   ]
  },
  {
   "cell_type": "code",
   "execution_count": 2,
   "id": "a47831cf-ef32-4bd0-b2bf-fb05e7ba0124",
   "metadata": {},
   "outputs": [],
   "source": [
    "# SPARKKKK"
   ]
  },
  {
   "cell_type": "code",
   "execution_count": 3,
   "id": "6f65dce6-119e-4b4e-b45d-2b7085d5c4fb",
   "metadata": {
    "scrolled": true
   },
   "outputs": [
    {
     "name": "stderr",
     "output_type": "stream",
     "text": [
      "Setting default log level to \"WARN\".\n",
      "To adjust logging level use sc.setLogLevel(newLevel). For SparkR, use setLogLevel(newLevel).\n",
      "24/03/14 15:36:24 WARN NativeCodeLoader: Unable to load native-hadoop library for your platform... using builtin-java classes where applicable\n"
     ]
    }
   ],
   "source": [
    "from pyspark.sql import SparkSession\n",
    "from pyspark import SparkContext \n",
    "from pyspark.sql import SQLContext\n",
    "from pyspark.ml.classification import LinearSVC\n",
    "from pyspark.ml.evaluation import MulticlassClassificationEvaluator\n",
    "from pyspark.ml.feature import VectorAssembler\n",
    "from sklearn.metrics import confusion_matrix\n",
    "from sklearn.datasets import load_breast_cancer\n",
    "from pyspark.sql import SparkSession\n",
    "\n",
    "\n",
    "\n",
    "\n",
    "data=pd.read_csv('/Users/ajibolaoluwatobiloba/Desktop/AMOD5410- Big Data/Assignments/Assignment 3 --- ML & Spark/sleep.tsv',delimiter='\\t')\n",
    "\n",
    "\n",
    "\n",
    "spark = SparkSession.builder.getOrCreate()\n",
    "\n",
    "df_data = spark.createDataFrame(data)\n"
   ]
  },
  {
   "cell_type": "code",
   "execution_count": 5,
   "id": "9f58686b-9e3f-4f27-9879-81c2a10501f1",
   "metadata": {},
   "outputs": [
    {
     "name": "stderr",
     "output_type": "stream",
     "text": [
      "24/03/14 15:37:19 WARN InstanceBuilder: Failed to load implementation from:dev.ludovic.netlib.blas.JNIBLAS\n"
     ]
    },
    {
     "name": "stdout",
     "output_type": "stream",
     "text": [
      "Prediction Accuracy:  0.7603058510638298\n"
     ]
    }
   ],
   "source": [
    "from pyspark.sql import SparkSession\n",
    "from pyspark.ml.feature import VectorAssembler\n",
    "from pyspark.ml.classification import LinearSVC\n",
    "from pyspark.ml.evaluation import MulticlassClassificationEvaluator\n",
    "\n",
    "# Initialize SparkSession\n",
    "spark = SparkSession.builder.appName(\"BinaryClassification\").getOrCreate()\n",
    "\n",
    "# Load the data into a DataFrame\n",
    "df = spark.read.csv('/Users/ajibolaoluwatobiloba/Desktop/AMOD5410- Big Data/Assignments/Assignment 3 --- ML & Spark/sleep.tsv', header=True, inferSchema=True, sep='\\t')\n",
    "\n",
    "# Assuming our target variable is named 'target' and we want to keep classes 0 and 1 only\n",
    "df_filtered = df.filter((df.target == 0) | (df.target == 1))\n",
    "\n",
    "\n",
    "\n",
    "features = [f'V{i}' for i in range(13)]  # V0 to V12\n",
    "\n",
    "# Initializing the VectorAssembler with the feature columns\n",
    "va = VectorAssembler(inputCols=features, outputCol='features')\n",
    "\n",
    "# Transforming the DataFrame to include a features column\n",
    "va_df = va.transform(df_filtered)\n",
    "\n",
    "# Select only the features and target for modeling\n",
    "va_df = va_df.select(['features', 'target'])\n",
    "\n",
    "# Splitting the data into training and test sets\n",
    "(train, test) = va_df.randomSplit([0.8, 0.2])\n",
    "\n",
    "# Initializing the LinearSVC model\n",
    "lsvc = LinearSVC(labelCol=\"target\", maxIter=50)\n",
    "\n",
    "# Fitting the model on the training data\n",
    "lsvc_model = lsvc.fit(train)\n",
    "\n",
    "# Making predictions on the test data\n",
    "pred = lsvc_model.transform(test)\n",
    "\n",
    "# Evaluating the model\n",
    "evaluator = MulticlassClassificationEvaluator(labelCol=\"target\", metricName=\"accuracy\")\n",
    "acc = evaluator.evaluate(pred)\n",
    "\n",
    "# Printing the prediction accuracy\n",
    "print(\"Prediction Accuracy: \", acc)\n"
   ]
  },
  {
   "cell_type": "code",
   "execution_count": null,
   "id": "9327ac5b-e868-464b-97ed-45fdb770beea",
   "metadata": {},
   "outputs": [],
   "source": []
  },
  {
   "cell_type": "code",
   "execution_count": null,
   "id": "d655515e-1ca7-4cff-8714-2156def3f625",
   "metadata": {},
   "outputs": [],
   "source": []
  },
  {
   "cell_type": "code",
   "execution_count": null,
   "id": "787739e1-a8fb-4d8c-bcde-52b7bcdb4e41",
   "metadata": {},
   "outputs": [],
   "source": []
  },
  {
   "cell_type": "code",
   "execution_count": null,
   "id": "807a6294-b32e-4d6e-80e1-1e9c9c3fd89a",
   "metadata": {},
   "outputs": [],
   "source": []
  },
  {
   "cell_type": "code",
   "execution_count": null,
   "id": "e2a239f4",
   "metadata": {},
   "outputs": [],
   "source": []
  },
  {
   "cell_type": "code",
   "execution_count": null,
   "id": "1ed8c46d",
   "metadata": {},
   "outputs": [],
   "source": []
  },
  {
   "cell_type": "code",
   "execution_count": null,
   "id": "ec4a6b7d-58bd-4bc9-8f50-4c7dec82bf23",
   "metadata": {},
   "outputs": [],
   "source": []
  },
  {
   "cell_type": "code",
   "execution_count": null,
   "id": "3abb2e0f-cd19-4ccd-a562-44dd3524d9eb",
   "metadata": {},
   "outputs": [],
   "source": []
  },
  {
   "cell_type": "code",
   "execution_count": null,
   "id": "b90612b0-c903-4986-beb4-4734464bc64e",
   "metadata": {},
   "outputs": [],
   "source": []
  },
  {
   "cell_type": "code",
   "execution_count": null,
   "id": "d890a81e-b0d1-4379-8b14-6cba2895e046",
   "metadata": {},
   "outputs": [],
   "source": []
  },
  {
   "cell_type": "code",
   "execution_count": null,
   "id": "a9ac3935-ca6a-4519-ad60-a7f0f24b7a1e",
   "metadata": {},
   "outputs": [],
   "source": []
  },
  {
   "cell_type": "code",
   "execution_count": null,
   "id": "5ebfe283-efca-4b06-a3a3-d790b9711f34",
   "metadata": {},
   "outputs": [],
   "source": []
  },
  {
   "cell_type": "code",
   "execution_count": null,
   "id": "f4bbd890-08e1-4123-97f0-89e3b2d8ae97",
   "metadata": {},
   "outputs": [],
   "source": []
  },
  {
   "cell_type": "code",
   "execution_count": null,
   "id": "8aedc912-6cb9-4aba-b1da-049a551873cc",
   "metadata": {},
   "outputs": [],
   "source": []
  }
 ],
 "metadata": {
  "kernelspec": {
   "display_name": "Python 3 (ipykernel)",
   "language": "python",
   "name": "python3"
  },
  "language_info": {
   "codemirror_mode": {
    "name": "ipython",
    "version": 3
   },
   "file_extension": ".py",
   "mimetype": "text/x-python",
   "name": "python",
   "nbconvert_exporter": "python",
   "pygments_lexer": "ipython3",
   "version": "3.11.5"
  }
 },
 "nbformat": 4,
 "nbformat_minor": 5
}
