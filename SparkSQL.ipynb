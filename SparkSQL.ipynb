{
 "cells": [
  {
   "cell_type": "code",
   "execution_count": 9,
   "id": "78fc238a-b3d4-4a6a-963b-09d38697a65e",
   "metadata": {},
   "outputs": [
    {
     "name": "stderr",
     "output_type": "stream",
     "text": [
      "24/03/15 19:53:19 WARN SparkSession: Using an existing Spark session; only runtime SQL configurations will take effect.\n",
      "                                                                                \r"
     ]
    },
    {
     "name": "stdout",
     "output_type": "stream",
     "text": [
      "+--------------------+--------------------+--------+\n",
      "|               title|                 url|  author|\n",
      "+--------------------+--------------------+--------+\n",
      "|What are the best...|/r/datascience/co...|u/denwid|\n",
      "+--------------------+--------------------+--------+\n",
      "\n"
     ]
    }
   ],
   "source": [
    "\n",
    "from pyspark.sql import SparkSession\n",
    "\n",
    "spark = SparkSession.builder.appName(\"RedditData\").getOrCreate()\n",
    "\n",
    "df = spark.read.option(\"header\", \"true\").option(\"inferSchema\", \"true\").csv(\"/Users/ajibolaoluwatobiloba/Desktop/AMOD5410- Big Data/Assignments/Assignment 2/reddit_scraped.csv\")\n",
    "\n",
    "df.write.mode(\"overwrite\").saveAsTable(\"reddit_managers\")\n",
    "\n",
    "spark.sql(\"SELECT * FROM reddit_managers WHERE author = 'u/denwid'\").show()\n",
    "\n"
   ]
  },
  {
   "cell_type": "code",
   "execution_count": 8,
   "id": "69271f8a-711a-4ecd-b301-88d02468f779",
   "metadata": {},
   "outputs": [
    {
     "name": "stdout",
     "output_type": "stream",
     "text": [
      "+--------------------+--------------------+--------+\n",
      "|               title|                 url|  author|\n",
      "+--------------------+--------------------+--------+\n",
      "|What are the best...|/r/datascience/co...|u/denwid|\n",
      "+--------------------+--------------------+--------+\n",
      "\n"
     ]
    }
   ],
   "source": [
    "\n",
    "from pyspark.sql import SparkSession\n",
    "\n",
    "spark = SparkSession.builder \\\n",
    "    .appName(\"MySparkApp\") \\\n",
    "    .config(\"spark.master\", \"local\") \\\n",
    "    .config(\"spark.jars\", \"/Users/ajibolaoluwatobiloba/Desktop/AMOD5410- Big Data/Assignments/Assignment 3 --- ML & Spark/mysql-connector-j-8.3.0/mysql-connector-j-8.3.0.jar\") \\\n",
    "    .getOrCreate()\n",
    "\n",
    "df = spark.read \\\n",
    "    .format(\"jdbc\") \\\n",
    "    .option(\"url\", \"jdbc:mysql://127.0.0.1:3306/aliexpress\") \\\n",
    "    .option(\"dbtable\", \"reddit_data\") \\\n",
    "    .option(\"user\", \"root\") \\\n",
    "    .option(\"password\", \"@Tobiloba2003\") \\\n",
    "    .option(\"driver\", \"com.mysql.cj.jdbc.Driver\") \\\n",
    "    .load()\n",
    "\n",
    "\n",
    "df.createOrReplaceTempView(\"reddit_unmanaged\")\n",
    "\n",
    "\n",
    "spark.sql(\"SELECT * FROM reddit_unmanaged WHERE author = 'u/denwid'\").show()\n"
   ]
  },
  {
   "cell_type": "code",
   "execution_count": null,
   "id": "c30a8391-de9c-4cbc-99e2-5e90d068cf87",
   "metadata": {},
   "outputs": [],
   "source": []
  },
  {
   "cell_type": "code",
   "execution_count": null,
   "id": "d492eeba-b843-4232-acc5-befaafe44f5e",
   "metadata": {},
   "outputs": [],
   "source": []
  },
  {
   "cell_type": "code",
   "execution_count": null,
   "id": "074300c2-6cb0-4ee6-a4af-a5fce070ace9",
   "metadata": {},
   "outputs": [],
   "source": []
  },
  {
   "cell_type": "code",
   "execution_count": null,
   "id": "ab6cc9ab-3f2b-4c79-a25e-1fc9910a6656",
   "metadata": {},
   "outputs": [],
   "source": []
  },
  {
   "cell_type": "code",
   "execution_count": null,
   "id": "aa1ca7e8-1303-4327-9cb5-e572c5ba650d",
   "metadata": {},
   "outputs": [],
   "source": []
  },
  {
   "cell_type": "code",
   "execution_count": null,
   "id": "5956cf91-fa3c-4d20-9180-c26dda28622c",
   "metadata": {},
   "outputs": [],
   "source": []
  },
  {
   "cell_type": "code",
   "execution_count": null,
   "id": "3624ab92-0df3-47c3-bb0e-631ac59ba989",
   "metadata": {},
   "outputs": [],
   "source": []
  },
  {
   "cell_type": "code",
   "execution_count": null,
   "id": "57d1324e-bd03-4972-ac6a-47e493166b42",
   "metadata": {},
   "outputs": [],
   "source": []
  },
  {
   "cell_type": "code",
   "execution_count": null,
   "id": "4cb28c72-37e7-4b2d-abbe-c149b2ec9af4",
   "metadata": {},
   "outputs": [],
   "source": []
  },
  {
   "cell_type": "code",
   "execution_count": null,
   "id": "d14bdc5c-d0f5-4e8e-ad8f-7c04ba745def",
   "metadata": {},
   "outputs": [],
   "source": []
  },
  {
   "cell_type": "code",
   "execution_count": null,
   "id": "137296bb-73d8-48ef-b2e5-15095f2aebca",
   "metadata": {},
   "outputs": [],
   "source": []
  },
  {
   "cell_type": "code",
   "execution_count": null,
   "id": "76679e91-6a2b-43fe-9b62-27c2bbe1705e",
   "metadata": {},
   "outputs": [],
   "source": []
  }
 ],
 "metadata": {
  "kernelspec": {
   "display_name": "Python 3 (ipykernel)",
   "language": "python",
   "name": "python3"
  },
  "language_info": {
   "codemirror_mode": {
    "name": "ipython",
    "version": 3
   },
   "file_extension": ".py",
   "mimetype": "text/x-python",
   "name": "python",
   "nbconvert_exporter": "python",
   "pygments_lexer": "ipython3",
   "version": "3.11.5"
  }
 },
 "nbformat": 4,
 "nbformat_minor": 5
}
