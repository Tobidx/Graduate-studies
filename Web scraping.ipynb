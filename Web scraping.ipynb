{
 "cells": [
  {
   "cell_type": "code",
   "execution_count": null,
   "id": "6c686479-5f23-48f2-b7c7-572cb3f45b5c",
   "metadata": {},
   "outputs": [],
   "source": [
    "import time\n",
    "from selenium.webdriver.chrome.service import Service\n",
    "from selenium import webdriver\n",
    "from bs4 import BeautifulSoup\n",
    "import json\n",
    "\n",
    "url = \"https://www.reddit.com/r/datascience/\"\n",
    "path = \"/Users/ajibolaoluwatobiloba/Desktop/AMOD5410- Big Data/Assignments/Assignment 2/chromedriver\"\n",
    "service = Service(executable_path=path)\n",
    "driver = webdriver.Chrome(service=service)\n",
    "driver.get(url)\n",
    "\n",
    "# Wait for the page to load\n",
    "driver.implicitly_wait(10)\n",
    "\n",
    "# Scroll down to trigger loading of more articles\n",
    "scroll_pause_time = 1\n",
    "last_height = driver.execute_script(\"return document.body.scrollHeight\")\n",
    "while True:\n",
    "    driver.execute_script(\"window.scrollTo(0, document.body.scrollHeight);\")\n",
    "    time.sleep(scroll_pause_time)\n",
    "    new_height = driver.execute_script(\"return document.body.scrollHeight\")\n",
    "    if new_height == last_height:\n",
    "        break\n",
    "    last_height = new_height\n",
    "\n",
    "# Get the page source after it's fully loaded\n",
    "html_text = driver.page_source\n",
    "soup = BeautifulSoup(html_text, 'lxml')\n",
    "\n",
    "# Initialize an empty list to store the scraped data\n",
    "articles_data = []\n",
    "\n",
    "# Find all the articles on the page and loop through them\n",
    "articles = soup.find_all('article')\n",
    "for article in articles:\n",
    "    # Get the title, url, and author of the article\n",
    "    title = article['aria-label']\n",
    "    url = article.find('a', slot='full-post-link')['href']\n",
    "    author = article.find('span', class_='whitespace-nowrap').text\n",
    "    \n",
    "    # Add the article data to the list\n",
    "    articles_data.append({'title': title, 'url': url, 'author': author})\n",
    "\n",
    "# Write the scraped data to a JSON file\n",
    "with open('reddit_scraped.json', 'w') as json_file:\n",
    "    json.dump(articles_data, json_file, indent=4)\n",
    "\n",
    "# Close the browser\n",
    "driver.quit()\n"
   ]
  }
 ],
 "metadata": {
  "kernelspec": {
   "display_name": "Python 3 (ipykernel)",
   "language": "python",
   "name": "python3"
  },
  "language_info": {
   "codemirror_mode": {
    "name": "ipython",
    "version": 3
   },
   "file_extension": ".py",
   "mimetype": "text/x-python",
   "name": "python",
   "nbconvert_exporter": "python",
   "pygments_lexer": "ipython3",
   "version": "3.11.5"
  }
 },
 "nbformat": 4,
 "nbformat_minor": 5
}
